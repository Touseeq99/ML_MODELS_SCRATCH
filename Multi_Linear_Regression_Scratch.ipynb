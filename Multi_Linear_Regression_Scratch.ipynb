{
  "nbformat": 4,
  "nbformat_minor": 0,
  "metadata": {
    "colab": {
      "provenance": [],
      "authorship_tag": "ABX9TyMVAbFqE/8/d9MZmpJwdId4",
      "include_colab_link": true
    },
    "kernelspec": {
      "name": "python3",
      "display_name": "Python 3"
    },
    "language_info": {
      "name": "python"
    }
  },
  "cells": [
    {
      "cell_type": "markdown",
      "metadata": {
        "id": "view-in-github",
        "colab_type": "text"
      },
      "source": [
        "<a href=\"https://colab.research.google.com/github/Touseeq99/ML_MODELS_SCRATCH/blob/main/Multi_Linear_Regression_Scratch.ipynb\" target=\"_parent\"><img src=\"https://colab.research.google.com/assets/colab-badge.svg\" alt=\"Open In Colab\"/></a>"
      ]
    },
    {
      "cell_type": "code",
      "source": [
        "import numpy as np"
      ],
      "metadata": {
        "id": "SepktQ4vdN5S"
      },
      "execution_count": 1,
      "outputs": []
    },
    {
      "cell_type": "code",
      "execution_count": 5,
      "metadata": {
        "id": "NUGh7oUPNAcq"
      },
      "outputs": [],
      "source": [
        "class MultiLinearRegression:\n",
        "  def __init__(self):\n",
        "    self.coef_=None\n",
        "    self.intercept_=None\n",
        "  def fit(self,X_train,y_train):\n",
        "    X_train = np.insert(X_train,0,1,axis=1)\n",
        "    betas=np.dot( (np.linalg.inv(np.dot(X_train.T,X_train))),y_train.T ,X_train)\n",
        "    self.intercept_=betas[0]\n",
        "    self.coef_ = betas[1:]\n",
        "  def predict(self,X_test):\n",
        "    y_pred =self.intercept_+np.dot(self.coef_,X_test)\n",
        "    return y_pred\n",
        "\n",
        "\n",
        ""
      ]
    },
    {
      "cell_type": "code",
      "source": [
        "lr = MultiLinearRegression()\n",
        "\n"
      ],
      "metadata": {
        "id": "EZiVWv-6fY52"
      },
      "execution_count": 6,
      "outputs": []
    }
  ]
}