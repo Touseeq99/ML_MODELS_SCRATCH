{
  "nbformat": 4,
  "nbformat_minor": 0,
  "metadata": {
    "colab": {
      "provenance": [],
      "authorship_tag": "ABX9TyOOxP08UzgYHV3j6M2NKm5H",
      "include_colab_link": true
    },
    "kernelspec": {
      "name": "python3",
      "display_name": "Python 3"
    },
    "language_info": {
      "name": "python"
    }
  },
  "cells": [
    {
      "cell_type": "markdown",
      "metadata": {
        "id": "view-in-github",
        "colab_type": "text"
      },
      "source": [
        "<a href=\"https://colab.research.google.com/github/Touseeq99/ML_MODELS_SCRATCH/blob/main/Simple_LINEAR_REGRESSION_SCRATCH_BUILT.ipynb\" target=\"_parent\"><img src=\"https://colab.research.google.com/assets/colab-badge.svg\" alt=\"Open In Colab\"/></a>"
      ]
    },
    {
      "cell_type": "code",
      "execution_count": 8,
      "metadata": {
        "id": "YULmNrd6dGLZ"
      },
      "outputs": [],
      "source": [
        "class LRSCRATCH:\n",
        "  def __init__(self):\n",
        "    self.m =None\n",
        "    self.b =None\n",
        "\n",
        "  def fit(self,X_train,y_train):\n",
        "\n",
        "      num = 0\n",
        "      den = 0\n",
        "      for i in range(X_train.shape[0]):\n",
        "        num = num +((X_train[i]-X_train.mean()) *( y_train[i]-y_train.mean()))\n",
        "        den = den+((X_train[i]-X_train.mean())**2)\n",
        "        self.m = num/den\n",
        "        self.b = y_train.mean()-(self.m*X_train.mean())\n",
        "\n",
        "\n",
        "  def predict(self,X_test):\n",
        "\n",
        "    return self.m*X_test+self.b\n",
        "\n"
      ]
    },
    {
      "cell_type": "code",
      "source": [
        "lr = LRSCRATCH()"
      ],
      "metadata": {
        "id": "E2AspRdWd1oC"
      },
      "execution_count": 9,
      "outputs": []
    },
    {
      "cell_type": "code",
      "source": [],
      "metadata": {
        "id": "aXs90FWkgmMK"
      },
      "execution_count": null,
      "outputs": []
    }
  ]
}