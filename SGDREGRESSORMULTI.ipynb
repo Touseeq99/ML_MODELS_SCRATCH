{
  "nbformat": 4,
  "nbformat_minor": 0,
  "metadata": {
    "colab": {
      "provenance": [],
      "authorship_tag": "ABX9TyOdcMYE8v4KjA0U+wFwPSlo",
      "include_colab_link": true
    },
    "kernelspec": {
      "name": "python3",
      "display_name": "Python 3"
    },
    "language_info": {
      "name": "python"
    }
  },
  "cells": [
    {
      "cell_type": "markdown",
      "metadata": {
        "id": "view-in-github",
        "colab_type": "text"
      },
      "source": [
        "<a href=\"https://colab.research.google.com/github/Touseeq99/ML_MODELS_SCRATCH/blob/main/SGDREGRESSORMULTI.ipynb\" target=\"_parent\"><img src=\"https://colab.research.google.com/assets/colab-badge.svg\" alt=\"Open In Colab\"/></a>"
      ]
    },
    {
      "cell_type": "code",
      "execution_count": null,
      "metadata": {
        "id": "CXy-u0c4L2Ag"
      },
      "outputs": [],
      "source": [
        "class SGDREGRESSORMULTI:\n",
        "  def __init__(self, learning_rate=0.01,epochs=100):\n",
        "    self.coef_ =None\n",
        "    self.intercept_=None\n",
        "    self.learning_rate=learning_rate\n",
        "    self.epochs=epochs\n",
        "  def fit(self,X_train,y_train):\n",
        "    self.intercept_= 0\n",
        "    self.coef_ = np.ones(X_train.shape[1])\n",
        "    for i in range(self.epochs):\n",
        "      for j in range(X_train.shape[0]):\n",
        "        idx = np.random.randint(0,X_train.shape[0])\n",
        "        y_hat = np.dot(X_train[idx],self.coef_)+self.intercept_\n",
        "        intercept_der = -2*(y_train[idx]-y_hat)\n",
        "        self.intercept_ = self.intercept_-(self.learning_rate*intercept_der)\n",
        "        coef_der = -2* np.dot((y_train[idx]-y_hat),X_train[idx])\n",
        "        self.coef_ = self.coef_-(self.learning_rate*coef_der)\n",
        "    print(self.intercept_,self.coef_)\n",
        "  def predict(self,X_test):\n",
        "    return np.dot(X_test,self.coef_)+self.intercept_\n",
        "\n"
      ]
    }
  ]
}