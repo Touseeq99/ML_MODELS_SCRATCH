{
  "nbformat": 4,
  "nbformat_minor": 0,
  "metadata": {
    "colab": {
      "provenance": [],
      "authorship_tag": "ABX9TyMJreizKzEXZik83ZGaYCPJ",
      "include_colab_link": true
    },
    "kernelspec": {
      "name": "python3",
      "display_name": "Python 3"
    },
    "language_info": {
      "name": "python"
    }
  },
  "cells": [
    {
      "cell_type": "markdown",
      "metadata": {
        "id": "view-in-github",
        "colab_type": "text"
      },
      "source": [
        "<a href=\"https://colab.research.google.com/github/Touseeq99/ML_MODELS_SCRATCH/blob/main/Logistic_Regression_For_GDS.ipynb\" target=\"_parent\"><img src=\"https://colab.research.google.com/assets/colab-badge.svg\" alt=\"Open In Colab\"/></a>"
      ]
    },
    {
      "cell_type": "code",
      "source": [
        "import numpy as np\n",
        "def sigmoid(x):\n",
        "  return 1/(1+np.exp(-x))"
      ],
      "metadata": {
        "id": "X0Fphz_FCj09"
      },
      "execution_count": 1,
      "outputs": []
    },
    {
      "cell_type": "code",
      "execution_count": 3,
      "metadata": {
        "id": "qRls1TvfutiS"
      },
      "outputs": [],
      "source": [
        "def gd(X,y):\n",
        "  X = np.insert(X,0,1,axis=1)\n",
        "  W = np.ones(X.shape[1])\n",
        "  lr = 0.01\n",
        "  for i in range(5000):\n",
        "    y_hat = sigmoid(np.dot(X,w))\n",
        "    W =W+lr*np.dot((y-y_hat,X)/X.shape[0])\n",
        "  return W[0],W[1:]"
      ]
    },
    {
      "cell_type": "code",
      "source": [
        "def gds(X,y):\n",
        "  X = np.insert(X,0,1,axis=1)\n",
        "  W = np.ones(X.shape[1])\n",
        "  lr = 0.01\n",
        "  for i in range(5000):\n",
        "    for j in range(X.shape[0]):\n",
        "      y_hat = sigmoid(np.dot(X[j],W))\n",
        "      W =W+lr*np.dot((y[j]-y_hat,X[j]))\n",
        "  return W[0],W[1:]"
      ],
      "metadata": {
        "id": "0HppqdIxDBXo"
      },
      "execution_count": 5,
      "outputs": []
    }
  ]
}